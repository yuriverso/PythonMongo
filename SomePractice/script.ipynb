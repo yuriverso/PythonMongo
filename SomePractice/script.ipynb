{
 "cells": [
  {
   "cell_type": "code",
   "execution_count": 1,
   "metadata": {},
   "outputs": [],
   "source": [
    "import pandas as pd\n",
    "from function import df_from_db"
   ]
  },
  {
   "cell_type": "code",
   "execution_count": 4,
   "metadata": {},
   "outputs": [],
   "source": [
    "filter = {\"XP Gain\": {\"$lt\": 10000}}\n",
    "fields = [\"XP Gain\", \"Balance\", \"Hunt\"]\n",
    "df = df_from_db(\"sessions\", filter=filter, fields=fields)\n"
   ]
  },
  {
   "cell_type": "code",
   "execution_count": 5,
   "metadata": {},
   "outputs": [
    {
     "data": {
      "text/html": [
       "<div>\n",
       "<style scoped>\n",
       "    .dataframe tbody tr th:only-of-type {\n",
       "        vertical-align: middle;\n",
       "    }\n",
       "\n",
       "    .dataframe tbody tr th {\n",
       "        vertical-align: top;\n",
       "    }\n",
       "\n",
       "    .dataframe thead th {\n",
       "        text-align: right;\n",
       "    }\n",
       "</style>\n",
       "<table border=\"1\" class=\"dataframe\">\n",
       "  <thead>\n",
       "    <tr style=\"text-align: right;\">\n",
       "      <th></th>\n",
       "      <th>_id</th>\n",
       "      <th>XP Gain</th>\n",
       "      <th>Balance</th>\n",
       "      <th>Hunt</th>\n",
       "    </tr>\n",
       "  </thead>\n",
       "  <tbody>\n",
       "    <tr>\n",
       "      <th>0</th>\n",
       "      <td>645e1ded23b02b2da833cc8d</td>\n",
       "      <td>0</td>\n",
       "      <td>-90</td>\n",
       "      <td>NaN</td>\n",
       "    </tr>\n",
       "    <tr>\n",
       "      <th>1</th>\n",
       "      <td>645e1ded23b02b2da833cc97</td>\n",
       "      <td>1170</td>\n",
       "      <td>551</td>\n",
       "      <td></td>\n",
       "    </tr>\n",
       "    <tr>\n",
       "      <th>2</th>\n",
       "      <td>645e1ded23b02b2da833ccc8</td>\n",
       "      <td>-5786303</td>\n",
       "      <td>325269</td>\n",
       "      <td>souleater</td>\n",
       "    </tr>\n",
       "    <tr>\n",
       "      <th>3</th>\n",
       "      <td>645e1ded23b02b2da833cc7f</td>\n",
       "      <td>5768</td>\n",
       "      <td>-2052</td>\n",
       "      <td>island troll</td>\n",
       "    </tr>\n",
       "    <tr>\n",
       "      <th>4</th>\n",
       "      <td>645e1ded23b02b2da833cc8b</td>\n",
       "      <td>-5825077</td>\n",
       "      <td>48999</td>\n",
       "      <td>roaring lion</td>\n",
       "    </tr>\n",
       "    <tr>\n",
       "      <th>5</th>\n",
       "      <td>645e1ded23b02b2da833cca7</td>\n",
       "      <td>-7405725</td>\n",
       "      <td>118819</td>\n",
       "      <td>NaN</td>\n",
       "    </tr>\n",
       "  </tbody>\n",
       "</table>\n",
       "</div>"
      ],
      "text/plain": [
       "                        _id  XP Gain  Balance          Hunt\n",
       "0  645e1ded23b02b2da833cc8d        0      -90           NaN\n",
       "1  645e1ded23b02b2da833cc97     1170      551              \n",
       "2  645e1ded23b02b2da833ccc8 -5786303   325269     souleater\n",
       "3  645e1ded23b02b2da833cc7f     5768    -2052  island troll\n",
       "4  645e1ded23b02b2da833cc8b -5825077    48999  roaring lion\n",
       "5  645e1ded23b02b2da833cca7 -7405725   118819           NaN"
      ]
     },
     "execution_count": 5,
     "metadata": {},
     "output_type": "execute_result"
    }
   ],
   "source": [
    "df\n"
   ]
  },
  {
   "cell_type": "code",
   "execution_count": null,
   "metadata": {},
   "outputs": [],
   "source": []
  }
 ],
 "metadata": {
  "kernelspec": {
   "display_name": "Python 3",
   "language": "python",
   "name": "python3"
  },
  "language_info": {
   "codemirror_mode": {
    "name": "ipython",
    "version": 3
   },
   "file_extension": ".py",
   "mimetype": "text/x-python",
   "name": "python",
   "nbconvert_exporter": "python",
   "pygments_lexer": "ipython3",
   "version": "3.11.0"
  },
  "orig_nbformat": 4
 },
 "nbformat": 4,
 "nbformat_minor": 2
}
